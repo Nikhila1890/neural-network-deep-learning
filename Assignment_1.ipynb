{
  "nbformat": 4,
  "nbformat_minor": 0,
  "metadata": {
    "colab": {
      "provenance": []
    },
    "kernelspec": {
      "name": "python3",
      "display_name": "Python 3"
    },
    "language_info": {
      "name": "python"
    }
  },
  "cells": [
    {
      "cell_type": "markdown",
      "source": [
        "⦁\tWrite a python program for the following: – Input the string “Python” as a list of characters from console, delete at least 2 characters, reversethe resultant string and print it.\n",
        "\n"
      ],
      "metadata": {
        "id": "YWX4-_Uty2dt"
      }
    },
    {
      "cell_type": "code",
      "source": [
        "input_string = input(\"Enter the string : \")\n",
        "if len(input_string) >= 2:\n",
        "    deleted_string = input_string[1:-1]\n",
        "else:\n",
        "    print(\"Input string should be atleast 2 characters.\")\n",
        "    exit()\n",
        "final_modified_str = deleted_string[::-1]\n",
        "print(\"Reversed string:\", final_modified_str)"
      ],
      "metadata": {
        "id": "X5eyGAcEy5Im"
      },
      "execution_count": null,
      "outputs": []
    },
    {
      "cell_type": "markdown",
      "source": [
        " Take two numbers from user and perform at least 4 arithmetic operations on them.\n"
      ],
      "metadata": {
        "id": "7A9xlsjL3vbh"
      }
    },
    {
      "cell_type": "code",
      "source": [
        "input1 = int(input('Enter value 1 : '))\n",
        "input2 = int(input('Enter value 2 : '))\n",
        "\n",
        "print('Addition of Value 1 and Value 2 : ', input1 + input2)\n",
        "print('Subtraction of Value 1 and Value 2 : ', input1 - input2)\n",
        "print('Multiplication of Value 1 and Value 2 : ', input1 * input2)\n",
        "if input2 == 0:\n",
        "  print('Diving with 0 is not possible')\n",
        "else:\n",
        "  print('Division of Value 1 and Value 2 : ', input1 / input2)\n",
        "\n",
        "\n",
        "\n"
      ],
      "metadata": {
        "id": "sQ4wF1a935Wf"
      },
      "execution_count": null,
      "outputs": []
    },
    {
      "cell_type": "markdown",
      "source": [
        "⦁\tWrite a program that accepts a sentence and replace each occurrence of ‘python’ with ‘pythons’.\n"
      ],
      "metadata": {
        "id": "nJ5CoAydztFv"
      }
    },
    {
      "cell_type": "code",
      "source": [
        "\n",
        "input_sentence = input(\"Enter the sentance : \")\n",
        "replaced_str = input_sentence.replace('python','pythons')\n",
        "print(\"modified Sentance : \",replaced_str)"
      ],
      "metadata": {
        "colab": {
          "base_uri": "https://localhost:8080/"
        },
        "id": "2XisT6Mkzw4J",
        "outputId": "a59aad6d-13f3-49ed-a5a3-7660e218e973"
      },
      "execution_count": 4,
      "outputs": [
        {
          "output_type": "stream",
          "name": "stdout",
          "text": [
            "Enter the sentance : string python entered\n",
            "modified Sentance :  string pythons entered\n"
          ]
        }
      ]
    },
    {
      "cell_type": "markdown",
      "source": [
        "⦁\tUse the if statement conditions to write a program to print the letter grade based on an input class score. Use the grading scheme we are using in this class.\n",
        "\n"
      ],
      "metadata": {
        "id": "XFhJ92jH0Voi"
      }
    },
    {
      "cell_type": "code",
      "source": [
        "\n",
        "def getGrade(marks):\n",
        "  if marks >= 90:\n",
        "    return 'A'\n",
        "  elif marks >= 80 and marks < 90:\n",
        "    return 'B'\n",
        "  elif marks >= 70 and marks < 80:\n",
        "    return 'C'\n",
        "  elif marks >= 60 and marks < 70:\n",
        "    return 'D'\n",
        "  else:\n",
        "    return 'F'\n",
        "\n",
        "input_val = int(input('enter score : '))\n",
        "print(\"Grade for the score : \",getGrade(input_val))"
      ],
      "metadata": {
        "colab": {
          "base_uri": "https://localhost:8080/"
        },
        "id": "MUcw3zBT0ZnO",
        "outputId": "059fda66-e2fd-4ac9-9ca3-e704473a287c"
      },
      "execution_count": 7,
      "outputs": [
        {
          "output_type": "stream",
          "name": "stdout",
          "text": [
            "enter score : 21\n",
            "Grade for the score :  F\n"
          ]
        }
      ]
    },
    {
      "cell_type": "code",
      "source": [],
      "metadata": {
        "id": "MF1CzCD92R40"
      },
      "execution_count": null,
      "outputs": []
    }
  ]
}